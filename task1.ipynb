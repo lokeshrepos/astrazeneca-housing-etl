{
 "cells": [
  {
   "cell_type": "code",
   "execution_count": 4,
   "id": "bf97c8b8",
   "metadata": {},
   "outputs": [],
   "source": [
    "from pyspark.sql import SparkSession\n",
    "from pyspark.sql import functions as F\n",
    "from pyspark.sql.types import StructType, StructField, StringType, DateType, DecimalType"
   ]
  },
  {
   "cell_type": "code",
   "execution_count": 5,
   "id": "02d764ad",
   "metadata": {},
   "outputs": [],
   "source": [
    "spark = SparkSession.builder.appName(\"Task1\").getOrCreate()"
   ]
  },
  {
   "cell_type": "code",
   "execution_count": 17,
   "id": "00541987",
   "metadata": {},
   "outputs": [
    {
     "name": "stdout",
     "output_type": "stream",
     "text": [
      "+-----------------------------+----------+--------+\n",
      "|transaction_unique_identifier|     price|postcode|\n",
      "+-----------------------------+----------+--------+\n",
      "|         {E53EDD2E-C6F1-83...| 150000.00|LS27 9AL|\n",
      "|         {E53EDD2E-C6F3-83...| 430000.00| LS6 1BU|\n",
      "|         {E53EDD2E-C6F4-83...| 135000.00|LS10 1LP|\n",
      "|         {E53EDD2E-C704-83...| 131000.00| HD2 2SN|\n",
      "|         {E53EDD2E-C705-83...| 180000.00|LS10 1NG|\n",
      "|         {E53EDD2E-C707-83...|  65000.00| HD4 6DL|\n",
      "|         {E53EDD2E-C708-83...| 180000.00|LS10 1NW|\n",
      "|         {E53EDD2E-C709-83...|  60000.00| BD4 7EJ|\n",
      "|         {E53EDD2E-C712-83...| 255000.00|BD10 0QZ|\n",
      "|         {E53EDD2E-C716-83...|  93500.00|LS12 5LT|\n",
      "|         {E53EDD2E-C71C-83...|6492000.00|WF13 2SU|\n",
      "|         {E53EDD2E-C71E-83...| 300000.00| BD4 7HY|\n",
      "|         {E53EDD2E-C725-83...| 127500.00| LS9 8FE|\n",
      "|         {E53EDD2E-C72A-83...| 114000.00|HU14 3FJ|\n",
      "|         {E53EDD2E-C72B-83...| 114000.00|HU14 3FJ|\n",
      "|         {E53EDD2E-C72C-83...|  83500.00|HU14 3FJ|\n",
      "|         {E53EDD2E-C72E-83...| 147000.00|HU10 6ND|\n",
      "|         {E53EDD2E-C72F-83...| 140000.00|HU16 5FN|\n",
      "|         {E53EDD2E-C730-83...| 140000.00|HU16 5FN|\n",
      "|         {E53EDD2E-C731-83...| 140000.00|HU16 5FN|\n",
      "+-----------------------------+----------+--------+\n",
      "only showing top 20 rows\n"
     ]
    }
   ],
   "source": [
    "schema = StructType([\n",
    "    StructField(\"transaction_unique_identifier\", StringType(), True),\n",
    "    StructField(\"price\", DecimalType(10, 2), True),\n",
    "    StructField(\"date_of_transfer\", DateType(), True),\n",
    "    StructField(\"postcode\", StringType(), True),\n",
    "    StructField(\"property_type\", StringType(), True),\n",
    "    StructField(\"old_new\", StringType(), True),\n",
    "    StructField(\"duration\", StringType(), True),\n",
    "    StructField(\"paon\", StringType(), True),\n",
    "    StructField(\"saon\", StringType(), True),\n",
    "    StructField(\"street\", StringType(), True),\n",
    "    StructField(\"locality\", StringType(), True),\n",
    "    StructField(\"town_city\", StringType(), True),\n",
    "    StructField(\"district\", StringType(), True),\n",
    "    StructField(\"county\", StringType(), True),\n",
    "    StructField(\"ppd_category_type\", StringType(), True),\n",
    "    StructField(\"record_status\", StringType(), True)\n",
    "])\n",
    "\n",
    "df = (\n",
    "    spark.read.format(\"csv\")\n",
    "    .option(\"header\", \"true\")\n",
    "    .schema(schema)\n",
    "    .load(\"../data/pp-2021.csv\")\n",
    ")\n",
    "\n",
    "df = df.select(\n",
    "    \"transaction_unique_identifier\",\n",
    "    \"price\",\n",
    "    \"postcode\"\n",
    ")\n",
    "df.show()"
   ]
  },
  {
   "cell_type": "code",
   "execution_count": 19,
   "id": "4ec3f967",
   "metadata": {},
   "outputs": [
    {
     "data": {
      "text/plain": [
       "1278277"
      ]
     },
     "execution_count": 19,
     "metadata": {},
     "output_type": "execute_result"
    }
   ],
   "source": [
    "df.count() "
   ]
  },
  {
   "cell_type": "code",
   "execution_count": 21,
   "id": "98de08d8",
   "metadata": {},
   "outputs": [
    {
     "name": "stdout",
     "output_type": "stream",
     "text": [
      "+-------------+------------+\n",
      "|postcode_area|median_price|\n",
      "+-------------+------------+\n",
      "|          NP2|    30000.00|\n",
      "|          DL4|    56000.00|\n",
      "|          TS1|    57000.00|\n",
      "|          BD1|    59995.00|\n",
      "|         DL17|    62950.00|\n",
      "|          SR1|    65000.00|\n",
      "|         DN31|    70000.00|\n",
      "|          SR8|    70000.00|\n",
      "|         BB11|    71000.00|\n",
      "|          TS3|    72500.00|\n",
      "+-------------+------------+\n",
      "\n"
     ]
    }
   ],
   "source": [
    "df_2021 = (\n",
    "    df\n",
    "    .filter(\n",
    "        (F.col(\"price\").isNotNull()) &\n",
    "        (F.col(\"postcode\").isNotNull())\n",
    "    )\n",
    "    .withColumn(\n",
    "    \"postcode_area\", F.split(F.col(\"postcode\"), \" \").getItem(0)\n",
    "    )   \n",
    ")\n",
    "\n",
    "median_prices = (\n",
    "    df_2021.groupBy(\"postcode_area\")\n",
    "    .agg(F.expr(\"percentile_approx(price, 0.5)\").alias(\"median_price\"))\n",
    "    .orderBy(F.col(\"median_price\").asc())\n",
    "    .limit(10)\n",
    ")\n",
    "\n",
    "median_prices.show()\n"
   ]
  }
 ],
 "metadata": {
  "kernelspec": {
   "display_name": "Python 3",
   "language": "python",
   "name": "python3"
  },
  "language_info": {
   "codemirror_mode": {
    "name": "ipython",
    "version": 3
   },
   "file_extension": ".py",
   "mimetype": "text/x-python",
   "name": "python",
   "nbconvert_exporter": "python",
   "pygments_lexer": "ipython3",
   "version": "3.13.3"
  }
 },
 "nbformat": 4,
 "nbformat_minor": 5
}
