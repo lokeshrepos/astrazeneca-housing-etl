{
 "cells": [
  {
   "cell_type": "code",
   "execution_count": null,
   "id": "171caae8",
   "metadata": {},
   "outputs": [],
   "source": [
    "\n",
    "from pyspark.sql import SparkSession\n",
    "from pyspark.sql import functions as F\n",
    "from pyspark.sql.types import StructType, StructField, StringType, DateType, DecimalType"
   ]
  },
  {
   "cell_type": "code",
   "execution_count": 2,
   "id": "60d985c4",
   "metadata": {},
   "outputs": [],
   "source": [
    "spark = SparkSession.builder.appName(\"Task3\").getOrCreate()"
   ]
  },
  {
   "cell_type": "code",
   "execution_count": null,
   "id": "3efda0d2",
   "metadata": {},
   "outputs": [
    {
     "name": "stdout",
     "output_type": "stream",
     "text": [
      "+-----------------------------+----------------+----------+--------+\n",
      "|transaction_unique_identifier|date_of_transfer|     price|postcode|\n",
      "+-----------------------------+----------------+----------+--------+\n",
      "|         {E53EDD2E-C6F1-83...|      2021-11-08| 150000.00|LS27 9AL|\n",
      "|         {E53EDD2E-C6F3-83...|      2021-10-29| 430000.00| LS6 1BU|\n",
      "|         {E53EDD2E-C6F4-83...|      2021-10-26| 135000.00|LS10 1LP|\n",
      "|         {E53EDD2E-C704-83...|      2021-12-21| 131000.00| HD2 2SN|\n",
      "|         {E53EDD2E-C705-83...|      2021-10-26| 180000.00|LS10 1NG|\n",
      "|         {E53EDD2E-C707-83...|      2021-12-23|  65000.00| HD4 6DL|\n",
      "|         {E53EDD2E-C708-83...|      2021-10-26| 180000.00|LS10 1NW|\n",
      "|         {E53EDD2E-C709-83...|      2021-12-20|  60000.00| BD4 7EJ|\n",
      "|         {E53EDD2E-C712-83...|      2021-09-29| 255000.00|BD10 0QZ|\n",
      "|         {E53EDD2E-C716-83...|      2021-07-16|  93500.00|LS12 5LT|\n",
      "|         {E53EDD2E-C71C-83...|      2021-12-17|6492000.00|WF13 2SU|\n",
      "|         {E53EDD2E-C71E-83...|      2021-12-20| 300000.00| BD4 7HY|\n",
      "|         {E53EDD2E-C725-83...|      2021-09-03| 127500.00| LS9 8FE|\n",
      "|         {E53EDD2E-C72A-83...|      2021-11-12| 114000.00|HU14 3FJ|\n",
      "|         {E53EDD2E-C72B-83...|      2021-11-12| 114000.00|HU14 3FJ|\n",
      "|         {E53EDD2E-C72C-83...|      2021-11-12|  83500.00|HU14 3FJ|\n",
      "|         {E53EDD2E-C72E-83...|      2021-12-02| 147000.00|HU10 6ND|\n",
      "|         {E53EDD2E-C72F-83...|      2021-11-12| 140000.00|HU16 5FN|\n",
      "|         {E53EDD2E-C730-83...|      2021-11-12| 140000.00|HU16 5FN|\n",
      "|         {E53EDD2E-C731-83...|      2021-11-12| 140000.00|HU16 5FN|\n",
      "+-----------------------------+----------------+----------+--------+\n",
      "only showing top 20 rows\n"
     ]
    }
   ],
   "source": [
    "schema = StructType([\n",
    "    StructField(\"transaction_unique_identifier\", StringType(), True),\n",
    "    StructField(\"price\", DecimalType(10, 2), True),\n",
    "    StructField(\"date_of_transfer\", DateType(), True),\n",
    "    StructField(\"postcode\", StringType(), True),\n",
    "    StructField(\"property_type\", StringType(), True),\n",
    "    StructField(\"old_new\", StringType(), True),\n",
    "    StructField(\"duration\", StringType(), True),\n",
    "    StructField(\"paon\", StringType(), True),\n",
    "    StructField(\"saon\", StringType(), True),\n",
    "    StructField(\"street\", StringType(), True),\n",
    "    StructField(\"locality\", StringType(), True),\n",
    "    StructField(\"town_city\", StringType(), True),\n",
    "    StructField(\"district\", StringType(), True),\n",
    "    StructField(\"county\", StringType(), True),\n",
    "    StructField(\"ppd_category_type\", StringType(), True),\n",
    "    StructField(\"record_status\", StringType(), True)\n",
    "])\n",
    "\n",
    "df = (\n",
    "    spark.read.format(\"csv\")\n",
    "    .option(\"header\", \"true\")\n",
    "    .schema(schema)\n",
    "    .load(\"../data/*.csv\") \n",
    ")\n",
    "df = df.select(\n",
    "    \"transaction_unique_identifier\",\n",
    "    \"date_of_transfer\",\n",
    "    \"price\",\n",
    "    \"postcode\"\n",
    ")\n",
    "df.show()"
   ]
  },
  {
   "cell_type": "code",
   "execution_count": 41,
   "id": "f09b2c30",
   "metadata": {},
   "outputs": [],
   "source": [
    "df = (\n",
    "    df\n",
    "    .withColumns({\n",
    "        \"year\": F.year(F.col(\"date_of_transfer\")),\n",
    "        \"postcode_area\": F.split(F.col(\"postcode\"), \" \").getItem(0)\n",
    "    })\n",
    "\n",
    ")\n",
    "df = df.filter((F.col(\"year\") >= 1995) & (F.col(\"year\") <= 2021))\n"
   ]
  },
  {
   "cell_type": "code",
   "execution_count": null,
   "id": "91fe13d6",
   "metadata": {},
   "outputs": [
    {
     "name": "stdout",
     "output_type": "stream",
     "text": [
      "+-------------+--------------------------+\n",
      "|postcode_area|cumulative_median_diff_sum|\n",
      "+-------------+--------------------------+\n",
      "|          L66|                   4000.00|\n",
      "|          CF7|                   8000.00|\n",
      "|          RG3|                  10000.00|\n",
      "|          L43|                  12000.00|\n",
      "|         GL30|                  28000.00|\n",
      "|          NP5|                  90000.00|\n",
      "|          L41|                  94500.00|\n",
      "|         DN31|                  98874.00|\n",
      "|          ST1|                 100210.00|\n",
      "|          ST6|                 104292.00|\n",
      "|         LA14|                 107100.00|\n",
      "|          TD5|                 109000.00|\n",
      "|          SR8|                 109100.00|\n",
      "|         CF43|                 110395.00|\n",
      "|          TS1|                 113000.00|\n",
      "|         DN32|                 114400.00|\n",
      "|          HU5|                 114720.00|\n",
      "|          W1R|                 115050.00|\n",
      "|          HU9|                 115550.00|\n",
      "|          SR4|                 115900.00|\n",
      "+-------------+--------------------------+\n",
      "only showing top 20 rows\n"
     ]
    }
   ],
   "source": [
    "from pyspark.sql.window import Window\n",
    "medians = (\n",
    "    df.groupBy(\"postcode_area\", \"year\")\n",
    "    .agg(F.expr(\"percentile_approx(price, 0.5)\").alias(\"median_price\"))\n",
    ")\n",
    "\n",
    "w = Window.partitionBy(\"postcode_area\").orderBy(\"year\")\n",
    "\n",
    "medians = medians.withColumn(\n",
    "    \"prev_median\", F.lag(\"median_price\").over(w)\n",
    ").withColumn(\n",
    "    \"median_diff\", F.abs(F.col(\"median_price\") - F.col(\"prev_median\"))\n",
    ")\n",
    "\n",
    "medians_filtered = medians.filter(\n",
    "    (F.col(\"postcode_area\").isNotNull()) & (F.col(\"median_diff\").isNotNull())\n",
    ")\n",
    "\n",
    "diff_sum = (\n",
    "    medians_filtered.groupBy(\"postcode_area\")\n",
    "    .agg(F.sum(\"median_diff\").alias(\"cumulative_median_diff_sum\"))\n",
    "    .orderBy(\"cumulative_median_diff_sum\")\n",
    "    .limit(25)\n",
    ")\n",
    "\n",
    "diff_sum.show()"
   ]
  }
 ],
 "metadata": {
  "kernelspec": {
   "display_name": "Python 3",
   "language": "python",
   "name": "python3"
  },
  "language_info": {
   "codemirror_mode": {
    "name": "ipython",
    "version": 3
   },
   "file_extension": ".py",
   "mimetype": "text/x-python",
   "name": "python",
   "nbconvert_exporter": "python",
   "pygments_lexer": "ipython3",
   "version": "3.13.3"
  }
 },
 "nbformat": 4,
 "nbformat_minor": 5
}
