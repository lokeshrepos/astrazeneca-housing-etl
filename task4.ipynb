{
 "cells": [
  {
   "cell_type": "code",
   "execution_count": 1,
   "id": "5433a8ea",
   "metadata": {},
   "outputs": [],
   "source": [
    "\n",
    "from pyspark.sql import SparkSession\n",
    "from pyspark.sql import functions as F\n",
    "from pyspark.sql.types import StructType, StructField, StringType, DateType, DecimalType\n",
    "from pyspark.sql.window import Window"
   ]
  },
  {
   "cell_type": "code",
   "execution_count": 2,
   "id": "49741f71",
   "metadata": {},
   "outputs": [],
   "source": [
    "spark = SparkSession.builder.appName(\"Task4\").getOrCreate()"
   ]
  },
  {
   "cell_type": "code",
   "execution_count": 4,
   "id": "82f66c5c",
   "metadata": {},
   "outputs": [],
   "source": [
    "schema = StructType([\n",
    "    StructField(\"transaction_unique_identifier\", StringType(), True),\n",
    "    StructField(\"price\", DecimalType(10, 2), True),\n",
    "    StructField(\"date_of_transfer\", DateType(), True),\n",
    "    StructField(\"postcode\", StringType(), True),\n",
    "    StructField(\"property_type\", StringType(), True),\n",
    "    StructField(\"old_new\", StringType(), True),\n",
    "    StructField(\"duration\", StringType(), True),\n",
    "    StructField(\"paon\", StringType(), True),\n",
    "    StructField(\"saon\", StringType(), True),\n",
    "    StructField(\"street\", StringType(), True),\n",
    "    StructField(\"locality\", StringType(), True),\n",
    "    StructField(\"town_city\", StringType(), True),\n",
    "    StructField(\"district\", StringType(), True),\n",
    "    StructField(\"county\", StringType(), True),\n",
    "    StructField(\"ppd_category_type\", StringType(), True),\n",
    "    StructField(\"record_status\", StringType(), True)\n",
    "])\n"
   ]
  },
  {
   "cell_type": "code",
   "execution_count": null,
   "id": "a01541b7",
   "metadata": {},
   "outputs": [],
   "source": [
    "df = (\n",
    "    spark.read.format(\"csv\")\n",
    "    .option(\"header\", \"true\")\n",
    "    .schema(schema)\n",
    "    .load(\"../data/*.csv\") \n",
    ")"
   ]
  },
  {
   "cell_type": "code",
   "execution_count": null,
   "id": "ac651e64",
   "metadata": {},
   "outputs": [
    {
     "name": "stdout",
     "output_type": "stream",
     "text": [
      "+-------------+------------------------+\n",
      "|postcode_area|cumulative_mean_diff_sum|\n",
      "+-------------+------------------------+\n",
      "|          CB6|           397921.877916|\n",
      "|          CB9|           417879.956958|\n",
      "|          CB7|           525531.094890|\n",
      "|          CB8|          1035394.046625|\n",
      "|          CB5|          1825138.417710|\n",
      "+-------------+------------------------+\n",
      "\n"
     ]
    }
   ],
   "source": [
    "\n",
    "df = df.withColumns({\n",
    "    \"year\": F.year(F.col(\"date_of_transfer\")),\n",
    "    \"postcode_area\": F.split(F.col(\"postcode\"), \" \").getItem(0)\n",
    "})\n",
    "df_cb = df.filter(\n",
    "    (F.col(\"year\") >= 1995) & (F.col(\"year\") <= 2021) &\n",
    "    (F.col(\"postcode_area\").startswith(\"CB\"))\n",
    ")\n",
    "\n",
    "\n",
    "medians = (\n",
    "    df_cb.groupBy(\"postcode_area\", \"year\")\n",
    "    .agg(F.expr(\"percentile_approx(price, 0.5)\").alias(\"median_price\"))\n",
    ")\n",
    "\n",
    "min_medians = (\n",
    "    medians.groupBy(\"postcode_area\")\n",
    "    .agg(F.min(\"median_price\").alias(\"min_median_price\"))\n",
    "    .orderBy(\"min_median_price\")\n",
    "    .limit(5)\n",
    ")\n",
    "\n",
    "top5_cb_areas = [row[\"postcode_area\"] for row in min_medians.collect()]\n",
    "\n",
    "means = (\n",
    "    df_cb.filter(F.col(\"postcode_area\").isin(top5_cb_areas))\n",
    "    .groupBy(\"postcode_area\", \"year\")\n",
    "    .agg(F.mean(\"price\").alias(\"mean_price\"))\n",
    ")\n",
    "\n",
    "w = Window.partitionBy(\"postcode_area\").orderBy(\"year\")\n",
    "\n",
    "means = means.withColumn(\n",
    "    \"prev_mean\", F.lag(\"mean_price\").over(w)\n",
    ").withColumn(\n",
    "    \"mean_diff\", F.abs(F.col(\"mean_price\") - F.coalesce(F.col(\"prev_mean\"), F.lit(0)))\n",
    ")\n",
    "\n",
    "result = (\n",
    "    means.groupBy(\"postcode_area\")\n",
    "    .agg(F.sum(\"mean_diff\").alias(\"cumulative_mean_diff_sum\"))\n",
    "    .orderBy(\"cumulative_mean_diff_sum\")\n",
    ")\n",
    "\n",
    "result.show()"
   ]
  }
 ],
 "metadata": {
  "kernelspec": {
   "display_name": "Python 3",
   "language": "python",
   "name": "python3"
  },
  "language_info": {
   "codemirror_mode": {
    "name": "ipython",
    "version": 3
   },
   "file_extension": ".py",
   "mimetype": "text/x-python",
   "name": "python",
   "nbconvert_exporter": "python",
   "pygments_lexer": "ipython3",
   "version": "3.13.3"
  }
 },
 "nbformat": 4,
 "nbformat_minor": 5
}
